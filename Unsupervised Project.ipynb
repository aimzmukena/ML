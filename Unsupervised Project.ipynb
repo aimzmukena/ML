{
 "cells": [
  {
   "cell_type": "code",
   "execution_count": 1,
   "metadata": {},
   "outputs": [],
   "source": [
    "###### Loading Packages\n",
    "\n",
    "import pandas as pd\n",
    "import matplotlib.pyplot as plt\n",
    "import seaborn as sns\n",
    "from sklearn.preprocessing import StandardScaler\n",
    "from sklearn.decomposition import PCA\n",
    "from sklearn.cluster import KMeans\n",
    "from scipy.cluster.hierarchy import dendrogram, linkage\n",
    "\n",
    "\n",
    "####### Loading Data\n",
    "\n",
    "data_big5= pd.read_excel('sample_survey_results.xlsx')\n",
    "\n",
    "###### Setting display options\n",
    "\n",
    "pd.set_option('display.max_rows', 500)\n",
    "pd.set_option('display.max_columns', 500)\n",
    "pd.set_option('display.width', 1000)\n",
    "pd.set_option('display.max_colwidth', 100)"
   ]
  },
  {
   "cell_type": "code",
   "execution_count": 2,
   "metadata": {},
   "outputs": [],
   "source": [
    "########################################\n",
    "# inertia\n",
    "########################################\n",
    "def interia_plot(data, max_clust = 50):\n",
    "    \"\"\"\n",
    "PARAMETERS\n",
    "----------\n",
    "data      : DataFrame, data from which to build clusters. Dataset should be scaled\n",
    "max_clust : int, maximum of range for how many clusters to check interia, default 50\n",
    "    \"\"\"\n",
    "\n",
    "    ks = range(1, max_clust)\n",
    "    inertias = []\n",
    "\n",
    "\n",
    "    for k in ks:\n",
    "        # INSTANTIATING a kmeans object\n",
    "        model = KMeans(n_clusters = k)\n",
    "\n",
    "\n",
    "        # FITTING to the data\n",
    "        model.fit(data)\n",
    "\n",
    "\n",
    "        # append each inertia to the list of inertias\n",
    "        inertias.append(model.inertia_)\n",
    "\n",
    "\n",
    "\n",
    "    # plotting ks vs inertias\n",
    "    fig, ax = plt.subplots(figsize = (12, 8))\n",
    "    plt.plot(ks, inertias, '-o')\n",
    "\n",
    "\n",
    "    # labeling and displaying the plot\n",
    "    plt.xlabel('number of clusters, k')\n",
    "    plt.ylabel('inertia')\n",
    "    plt.xticks(ks)\n",
    "    plt.show()\n",
    "\n",
    "\n",
    "########################################\n",
    "# scree_plot\n",
    "########################################\n",
    "def scree_plot(pca_object, export = False):\n",
    "    # building a scree plot\n",
    "\n",
    "    # setting plot size\n",
    "    fig, ax = plt.subplots(figsize=(10, 8))\n",
    "    features = range(pca_object.n_components_)\n",
    "\n",
    "\n",
    "    # developing a scree plot\n",
    "    plt.plot(features,\n",
    "             pca_object.explained_variance_ratio_,\n",
    "             linewidth = 2,\n",
    "             marker = 'o',\n",
    "             markersize = 10,\n",
    "             markeredgecolor = 'black',\n",
    "             markerfacecolor = 'grey')\n",
    "\n",
    "\n",
    "    # setting more plot options\n",
    "    plt.title('Scree Plot')\n",
    "    plt.xlabel('PCA feature')\n",
    "    plt.ylabel('Explained Variance')\n",
    "    plt.xticks(features)\n",
    "\n",
    "    if export == True:\n",
    "    \n",
    "        # exporting the plot\n",
    "        plt.savefig('top_customers_correlation_scree_plot.png')\n",
    "        \n",
    "    # displaying the plot\n",
    "    plt.show()"
   ]
  },
  {
   "cell_type": "code",
   "execution_count": 3,
   "metadata": {},
   "outputs": [],
   "source": [
    "copy_data= data_big5"
   ]
  },
  {
   "cell_type": "code",
   "execution_count": 8,
   "metadata": {},
   "outputs": [
    {
     "data": {
      "text/plain": [
       "(10, 79)"
      ]
     },
     "execution_count": 8,
     "metadata": {},
     "output_type": "execute_result"
    }
   ],
   "source": [
    "copy_data.shape\n"
   ]
  },
  {
   "cell_type": "code",
   "execution_count": null,
   "metadata": {},
   "outputs": [],
   "source": [
    "copy_data= data_big5\n",
    "\n",
    "copy_data.shape\n",
    "\n",
    "copy_data.drop(copy_data[copy_data['What is your age?']>28].index, inplace= True)\n",
    "\n",
    "Nationalities=copy_data['What is your nationality? '].str.upper()\n",
    "\n",
    "copy_data['Mac or Windows']=pd.get_dummies(copy_data['What laptop do you currently have?'])\n",
    "\n",
    "print(data_big5['What is your age?'].value_counts())\n",
    "\n",
    "print(\"\\n\\n\")\n",
    "\n",
    "print(data_big5['What program are you in?'].value_counts())\n",
    "\n",
    "survey_responses = data_big5.iloc[:,1:72]\n",
    "response_means = survey_responses.mean(axis = 0)\n",
    "survey_mean = response_means.mean()\n",
    "\n",
    "print(\"Average Answer for 'Display a growth mindset'\")\n",
    "\n",
    "print(survey_responses['Display a growth mindset'].mean(axis=0))\n",
    "\n",
    "print(\"\\n\\n\")\n",
    "\n",
    "print(\"Average Answer for 'Build cooperative relationships'\")\n",
    "print(survey_responses['Build cooperative relationships'].mean(axis=0))\n",
    "\n",
    "print(\"\\n\\n\")\n",
    "\n",
    "print(\"Average Answer for 'Work well with people from diverse cultural backgrounds'\")\n",
    "print(survey_responses['Work well with people from diverse cultural backgrounds'].mean(axis=0))"
   ]
  },
  {
   "cell_type": "code",
   "execution_count": 7,
   "metadata": {},
   "outputs": [],
   "source": [
    "big_5=copy_data.iloc[:,1:51]"
   ]
  },
  {
   "cell_type": "code",
   "execution_count": 9,
   "metadata": {},
   "outputs": [],
   "source": [
    "hult_dna=copy_data.iloc[:,52:72]"
   ]
  },
  {
   "cell_type": "code",
   "execution_count": 10,
   "metadata": {},
   "outputs": [
    {
     "data": {
      "text/html": [
       "<div>\n",
       "<style scoped>\n",
       "    .dataframe tbody tr th:only-of-type {\n",
       "        vertical-align: middle;\n",
       "    }\n",
       "\n",
       "    .dataframe tbody tr th {\n",
       "        vertical-align: top;\n",
       "    }\n",
       "\n",
       "    .dataframe thead th {\n",
       "        text-align: right;\n",
       "    }\n",
       "</style>\n",
       "<table border=\"1\" class=\"dataframe\">\n",
       "  <thead>\n",
       "    <tr style=\"text-align: right;\">\n",
       "      <th></th>\n",
       "      <th>Don't  generate ideas that are new and different</th>\n",
       "      <th>Demonstrate an awareness of personal strengths and limitations</th>\n",
       "      <th>Display a growth mindset</th>\n",
       "      <th>Respond effectively to multiple priorities</th>\n",
       "      <th>Take initiative even when circumstances, objectives, or rules aren't clear</th>\n",
       "      <th>Encourage direct and open discussions</th>\n",
       "      <th>Respond effectively to multiple priorities.1</th>\n",
       "      <th>Take initiative even when circumstances, objectives, or rules aren't clear.1</th>\n",
       "      <th>Encourage direct and open discussions.1</th>\n",
       "      <th>Listen carefully to others</th>\n",
       "      <th>Don't persuasively sell a vision or idea</th>\n",
       "      <th>Build cooperative relationships</th>\n",
       "      <th>Work well with people from diverse cultural backgrounds</th>\n",
       "      <th>Effectively negotiate interests, resources, and roles</th>\n",
       "      <th>Can't rally people on the team around a common goal</th>\n",
       "      <th>Translate ideas into plans that are organized and realistic</th>\n",
       "      <th>Resolve conflicts constructively</th>\n",
       "      <th>Seek and use feedback from teammates</th>\n",
       "      <th>Coach teammates for performance and growth</th>\n",
       "      <th>Drive for results</th>\n",
       "    </tr>\n",
       "  </thead>\n",
       "  <tbody>\n",
       "    <tr>\n",
       "      <th>0</th>\n",
       "      <td>2</td>\n",
       "      <td>4</td>\n",
       "      <td>4</td>\n",
       "      <td>4</td>\n",
       "      <td>4</td>\n",
       "      <td>4</td>\n",
       "      <td>4</td>\n",
       "      <td>4</td>\n",
       "      <td>4</td>\n",
       "      <td>4</td>\n",
       "      <td>3</td>\n",
       "      <td>4</td>\n",
       "      <td>4</td>\n",
       "      <td>4</td>\n",
       "      <td>2</td>\n",
       "      <td>4</td>\n",
       "      <td>4</td>\n",
       "      <td>4</td>\n",
       "      <td>4</td>\n",
       "      <td>4</td>\n",
       "    </tr>\n",
       "    <tr>\n",
       "      <th>1</th>\n",
       "      <td>2</td>\n",
       "      <td>2</td>\n",
       "      <td>4</td>\n",
       "      <td>4</td>\n",
       "      <td>4</td>\n",
       "      <td>5</td>\n",
       "      <td>5</td>\n",
       "      <td>5</td>\n",
       "      <td>5</td>\n",
       "      <td>5</td>\n",
       "      <td>2</td>\n",
       "      <td>4</td>\n",
       "      <td>4</td>\n",
       "      <td>2</td>\n",
       "      <td>3</td>\n",
       "      <td>4</td>\n",
       "      <td>5</td>\n",
       "      <td>5</td>\n",
       "      <td>4</td>\n",
       "      <td>5</td>\n",
       "    </tr>\n",
       "    <tr>\n",
       "      <th>2</th>\n",
       "      <td>2</td>\n",
       "      <td>5</td>\n",
       "      <td>3</td>\n",
       "      <td>5</td>\n",
       "      <td>2</td>\n",
       "      <td>3</td>\n",
       "      <td>5</td>\n",
       "      <td>2</td>\n",
       "      <td>3</td>\n",
       "      <td>3</td>\n",
       "      <td>2</td>\n",
       "      <td>3</td>\n",
       "      <td>4</td>\n",
       "      <td>4</td>\n",
       "      <td>2</td>\n",
       "      <td>4</td>\n",
       "      <td>2</td>\n",
       "      <td>3</td>\n",
       "      <td>3</td>\n",
       "      <td>5</td>\n",
       "    </tr>\n",
       "    <tr>\n",
       "      <th>3</th>\n",
       "      <td>3</td>\n",
       "      <td>3</td>\n",
       "      <td>5</td>\n",
       "      <td>5</td>\n",
       "      <td>5</td>\n",
       "      <td>4</td>\n",
       "      <td>4</td>\n",
       "      <td>4</td>\n",
       "      <td>4</td>\n",
       "      <td>5</td>\n",
       "      <td>3</td>\n",
       "      <td>5</td>\n",
       "      <td>5</td>\n",
       "      <td>5</td>\n",
       "      <td>5</td>\n",
       "      <td>3</td>\n",
       "      <td>5</td>\n",
       "      <td>5</td>\n",
       "      <td>5</td>\n",
       "      <td>5</td>\n",
       "    </tr>\n",
       "    <tr>\n",
       "      <th>4</th>\n",
       "      <td>3</td>\n",
       "      <td>5</td>\n",
       "      <td>3</td>\n",
       "      <td>3</td>\n",
       "      <td>3</td>\n",
       "      <td>3</td>\n",
       "      <td>3</td>\n",
       "      <td>3</td>\n",
       "      <td>4</td>\n",
       "      <td>4</td>\n",
       "      <td>4</td>\n",
       "      <td>3</td>\n",
       "      <td>3</td>\n",
       "      <td>4</td>\n",
       "      <td>4</td>\n",
       "      <td>3</td>\n",
       "      <td>3</td>\n",
       "      <td>3</td>\n",
       "      <td>3</td>\n",
       "      <td>3</td>\n",
       "    </tr>\n",
       "    <tr>\n",
       "      <th>5</th>\n",
       "      <td>2</td>\n",
       "      <td>3</td>\n",
       "      <td>4</td>\n",
       "      <td>4</td>\n",
       "      <td>3</td>\n",
       "      <td>3</td>\n",
       "      <td>4</td>\n",
       "      <td>3</td>\n",
       "      <td>3</td>\n",
       "      <td>4</td>\n",
       "      <td>4</td>\n",
       "      <td>3</td>\n",
       "      <td>4</td>\n",
       "      <td>3</td>\n",
       "      <td>2</td>\n",
       "      <td>3</td>\n",
       "      <td>3</td>\n",
       "      <td>5</td>\n",
       "      <td>3</td>\n",
       "      <td>4</td>\n",
       "    </tr>\n",
       "    <tr>\n",
       "      <th>6</th>\n",
       "      <td>3</td>\n",
       "      <td>4</td>\n",
       "      <td>5</td>\n",
       "      <td>4</td>\n",
       "      <td>3</td>\n",
       "      <td>4</td>\n",
       "      <td>4</td>\n",
       "      <td>4</td>\n",
       "      <td>4</td>\n",
       "      <td>4</td>\n",
       "      <td>2</td>\n",
       "      <td>4</td>\n",
       "      <td>5</td>\n",
       "      <td>4</td>\n",
       "      <td>4</td>\n",
       "      <td>5</td>\n",
       "      <td>4</td>\n",
       "      <td>5</td>\n",
       "      <td>4</td>\n",
       "      <td>5</td>\n",
       "    </tr>\n",
       "    <tr>\n",
       "      <th>7</th>\n",
       "      <td>4</td>\n",
       "      <td>4</td>\n",
       "      <td>5</td>\n",
       "      <td>5</td>\n",
       "      <td>5</td>\n",
       "      <td>5</td>\n",
       "      <td>5</td>\n",
       "      <td>5</td>\n",
       "      <td>5</td>\n",
       "      <td>4</td>\n",
       "      <td>3</td>\n",
       "      <td>5</td>\n",
       "      <td>5</td>\n",
       "      <td>5</td>\n",
       "      <td>3</td>\n",
       "      <td>4</td>\n",
       "      <td>5</td>\n",
       "      <td>5</td>\n",
       "      <td>5</td>\n",
       "      <td>5</td>\n",
       "    </tr>\n",
       "    <tr>\n",
       "      <th>8</th>\n",
       "      <td>2</td>\n",
       "      <td>4</td>\n",
       "      <td>4</td>\n",
       "      <td>4</td>\n",
       "      <td>4</td>\n",
       "      <td>4</td>\n",
       "      <td>4</td>\n",
       "      <td>4</td>\n",
       "      <td>4</td>\n",
       "      <td>4</td>\n",
       "      <td>3</td>\n",
       "      <td>4</td>\n",
       "      <td>4</td>\n",
       "      <td>4</td>\n",
       "      <td>1</td>\n",
       "      <td>5</td>\n",
       "      <td>4</td>\n",
       "      <td>4</td>\n",
       "      <td>4</td>\n",
       "      <td>4</td>\n",
       "    </tr>\n",
       "    <tr>\n",
       "      <th>9</th>\n",
       "      <td>4</td>\n",
       "      <td>4</td>\n",
       "      <td>4</td>\n",
       "      <td>4</td>\n",
       "      <td>3</td>\n",
       "      <td>4</td>\n",
       "      <td>4</td>\n",
       "      <td>3</td>\n",
       "      <td>4</td>\n",
       "      <td>4</td>\n",
       "      <td>3</td>\n",
       "      <td>4</td>\n",
       "      <td>4</td>\n",
       "      <td>4</td>\n",
       "      <td>2</td>\n",
       "      <td>4</td>\n",
       "      <td>4</td>\n",
       "      <td>4</td>\n",
       "      <td>4</td>\n",
       "      <td>4</td>\n",
       "    </tr>\n",
       "  </tbody>\n",
       "</table>\n",
       "</div>"
      ],
      "text/plain": [
       "   Don't  generate ideas that are new and different  Demonstrate an awareness of personal strengths and limitations  Display a growth mindset  Respond effectively to multiple priorities  Take initiative even when circumstances, objectives, or rules aren't clear  Encourage direct and open discussions  Respond effectively to multiple priorities.1  Take initiative even when circumstances, objectives, or rules aren't clear.1  Encourage direct and open discussions.1  Listen carefully to others  Don't persuasively sell a vision or idea  Build cooperative relationships  Work well with people from diverse cultural backgrounds  Effectively negotiate interests, resources, and roles  Can't rally people on the team around a common goal  Translate ideas into plans that are organized and realistic  Resolve conflicts constructively  Seek and use feedback from teammates  Coach teammates for performance and growth  Drive for results\n",
       "0                                                 2                                                               4                         4                                           4                                                                           4                                      4                                             4                                                                             4                                        4                           4                                         3                                4                                                        4                                                      4                                                    2                                                            4                                 4                                     4                                           4                  4\n",
       "1                                                 2                                                               2                         4                                           4                                                                           4                                      5                                             5                                                                             5                                        5                           5                                         2                                4                                                        4                                                      2                                                    3                                                            4                                 5                                     5                                           4                  5\n",
       "2                                                 2                                                               5                         3                                           5                                                                           2                                      3                                             5                                                                             2                                        3                           3                                         2                                3                                                        4                                                      4                                                    2                                                            4                                 2                                     3                                           3                  5\n",
       "3                                                 3                                                               3                         5                                           5                                                                           5                                      4                                             4                                                                             4                                        4                           5                                         3                                5                                                        5                                                      5                                                    5                                                            3                                 5                                     5                                           5                  5\n",
       "4                                                 3                                                               5                         3                                           3                                                                           3                                      3                                             3                                                                             3                                        4                           4                                         4                                3                                                        3                                                      4                                                    4                                                            3                                 3                                     3                                           3                  3\n",
       "5                                                 2                                                               3                         4                                           4                                                                           3                                      3                                             4                                                                             3                                        3                           4                                         4                                3                                                        4                                                      3                                                    2                                                            3                                 3                                     5                                           3                  4\n",
       "6                                                 3                                                               4                         5                                           4                                                                           3                                      4                                             4                                                                             4                                        4                           4                                         2                                4                                                        5                                                      4                                                    4                                                            5                                 4                                     5                                           4                  5\n",
       "7                                                 4                                                               4                         5                                           5                                                                           5                                      5                                             5                                                                             5                                        5                           4                                         3                                5                                                        5                                                      5                                                    3                                                            4                                 5                                     5                                           5                  5\n",
       "8                                                 2                                                               4                         4                                           4                                                                           4                                      4                                             4                                                                             4                                        4                           4                                         3                                4                                                        4                                                      4                                                    1                                                            5                                 4                                     4                                           4                  4\n",
       "9                                                 4                                                               4                         4                                           4                                                                           3                                      4                                             4                                                                             3                                        4                           4                                         3                                4                                                        4                                                      4                                                    2                                                            4                                 4                                     4                                           4                  4"
      ]
     },
     "execution_count": 10,
     "metadata": {},
     "output_type": "execute_result"
    }
   ],
   "source": [
    "hult_dna"
   ]
  },
  {
   "cell_type": "code",
   "execution_count": 12,
   "metadata": {},
   "outputs": [],
   "source": [
    "#### Scaling for Big 5\n",
    "scaler= StandardScaler()\n",
    "\n",
    "scaler.fit(big_5)\n",
    "\n",
    "X_scaled= scaler.transform(big_5)\n",
    "\n",
    "survey_scaled= pd.DataFrame(X_scaled)\n",
    "\n",
    "survey_scaled.columns= big_5.columns\n",
    "\n",
    "#print(pd.np.var(survey_scaled))"
   ]
  },
  {
   "cell_type": "code",
   "execution_count": 14,
   "metadata": {},
   "outputs": [],
   "source": [
    "#### Scaling for Hult DNA\n",
    "scaler= StandardScaler()\n",
    "\n",
    "scaler.fit(hult_dna)\n",
    "\n",
    "X_scaled= scaler.transform(hult_dna)\n",
    "\n",
    "survey_scaled_2= pd.DataFrame(X_scaled)\n",
    "\n",
    "survey_scaled_2.columns= hult_dna.columns\n",
    "\n",
    "#print(pd.np.var(survey_scaled_2))"
   ]
  },
  {
   "cell_type": "code",
   "execution_count": 50,
   "metadata": {},
   "outputs": [
    {
     "data": {
      "image/png": "[encoded data removed]",
      "text/plain": [
       "<Figure size 720x576 with 1 Axes>"
      ]
     },
     "metadata": {
      "needs_background": "light"
     },
     "output_type": "display_data"
    }
   ],
   "source": [
    "# INSTANTIATING a PCA object with no limit to principal components\n",
    "pca_none = PCA(n_components= None,\n",
    "          random_state = 802)\n",
    "\n",
    "\n",
    "# FITTING and TRANSFORMING the scaled data\n",
    "survey_responses_pca = pca_none.fit_transform(survey_scaled)\n",
    "\n",
    "\n",
    "# calling the scree_plot function\n",
    "scree_plot(pca_object = pca_none)"
   ]
  },
  {
   "cell_type": "code",
   "execution_count": 48,
   "metadata": {},
   "outputs": [
    {
     "data": {
      "image/png": "[encoded data removed]",
      "text/plain": [
       "<Figure size 720x576 with 1 Axes>"
      ]
     },
     "metadata": {
      "needs_background": "light"
     },
     "output_type": "display_data"
    }
   ],
   "source": [
    "pca = PCA(n_components= 2,\n",
    "          random_state = 802)\n",
    "\n",
    "\n",
    "# FITTING and TRANSFORMING the scaled data\n",
    "survey_responses_pca = pca.fit_transform(survey_scaled)\n",
    "\n",
    "\n",
    "# calling the scree_plot function\n",
    "scree_plot(pca_object = pca)"
   ]
  },
  {
   "cell_type": "code",
   "execution_count": 109,
   "metadata": {},
   "outputs": [
    {
     "data": {
      "text/plain": [
       "0.46609508681504386"
      ]
     },
     "execution_count": 109,
     "metadata": {},
     "output_type": "execute_result"
    }
   ],
   "source": [
    "pca.explained_variance_ratio_.cumsum()[1]"
   ]
  },
  {
   "cell_type": "code",
   "execution_count": 51,
   "metadata": {},
   "outputs": [
    {
     "data": {
      "image/png": "[encoded data removed]",
      "text/plain": [
       "<Figure size 720x576 with 1 Axes>"
      ]
     },
     "metadata": {
      "needs_background": "light"
     },
     "output_type": "display_data"
    }
   ],
   "source": [
    "pca_none_2 = PCA(n_components= None,\n",
    "          random_state = 802)\n",
    "\n",
    "\n",
    "# FITTING and TRANSFORMING the scaled data\n",
    "survey_responses_pca_none = pca_none_2.fit_transform(survey_scaled_2)\n",
    "\n",
    "\n",
    "# calling the scree_plot function\n",
    "scree_plot(pca_object = pca_none_2)"
   ]
  },
  {
   "cell_type": "code",
   "execution_count": null,
   "metadata": {},
   "outputs": [],
   "source": []
  },
  {
   "cell_type": "code",
   "execution_count": 52,
   "metadata": {},
   "outputs": [
    {
     "data": {
      "image/png": "[encoded data removed]",
      "text/plain": [
       "<Figure size 720x576 with 1 Axes>"
      ]
     },
     "metadata": {
      "needs_background": "light"
     },
     "output_type": "display_data"
    }
   ],
   "source": [
    "pca_2 = PCA(n_components= 2,\n",
    "          random_state = 802)\n",
    "\n",
    "\n",
    "# FITTING and TRANSFORMING the scaled data\n",
    "survey_responses_pca_2 = pca_2.fit_transform(survey_scaled_2)\n",
    "\n",
    "\n",
    "# calling the scree_plot function\n",
    "scree_plot(pca_object = pca_2)"
   ]
  },
  {
   "cell_type": "code",
   "execution_count": 53,
   "metadata": {},
   "outputs": [],
   "source": [
    "factor_loadings = pd.DataFrame(pd.np.transpose(pca.components_))\n",
    "\n",
    "\n",
    "# naming rows as original features\n",
    "factor_loadings = factor_loadings.set_index(survey_scaled.columns)\n",
    "\n",
    "factor_loadings.to_excel('pca_factor_big5.xlsx')"
   ]
  },
  {
   "cell_type": "code",
   "execution_count": 54,
   "metadata": {},
   "outputs": [],
   "source": [
    "factor_loadings_2 = pd.DataFrame(pd.np.transpose(pca_2.components_))\n",
    "\n",
    "\n",
    "# naming rows as original features\n",
    "factor_loadings_2 = factor_loadings_2.set_index(survey_scaled_2.columns)\n",
    "factor_loadings_2.to_excel('pca_fact_hdna.xlsx')"
   ]
  },
  {
   "cell_type": "code",
   "execution_count": 55,
   "metadata": {},
   "outputs": [],
   "source": [
    "factor_loadings.columns= ['The Beta',\n",
    "                         'That Alpha']\n",
    "\n",
    "factor_loadings_2.columns= ['The CEO',\n",
    "                         'That Avoider']"
   ]
  },
  {
   "cell_type": "code",
   "execution_count": 58,
   "metadata": {},
   "outputs": [],
   "source": [
    "# analyzing factor strengths per customer\n",
    "X_pca_reduced = pca.transform(survey_scaled)\n",
    "\n",
    "\n",
    "# converting to a DataFrame\n",
    "X_pca_df = pd.DataFrame(X_pca_reduced)\n",
    "\n",
    "# analyzing factor strengths per customer\n",
    "X_pca_reduced_2 = pca_2.transform(survey_scaled_2)\n",
    "\n",
    "\n",
    "# converting to a DataFrame\n",
    "X_pca_df_2 = pd.DataFrame(X_pca_reduced_2)\n",
    "\n",
    "\n",
    "# checking the results\n",
    "#X_pca_df\n",
    "\n"
   ]
  },
  {
   "cell_type": "code",
   "execution_count": 78,
   "metadata": {},
   "outputs": [
    {
     "data": {
      "text/html": [
       "<div>\n",
       "<style scoped>\n",
       "    .dataframe tbody tr th:only-of-type {\n",
       "        vertical-align: middle;\n",
       "    }\n",
       "\n",
       "    .dataframe tbody tr th {\n",
       "        vertical-align: top;\n",
       "    }\n",
       "\n",
       "    .dataframe thead th {\n",
       "        text-align: right;\n",
       "    }\n",
       "</style>\n",
       "<table border=\"1\" class=\"dataframe\">\n",
       "  <thead>\n",
       "    <tr style=\"text-align: right;\">\n",
       "      <th></th>\n",
       "      <th>0</th>\n",
       "      <th>1</th>\n",
       "      <th>0</th>\n",
       "      <th>1</th>\n",
       "    </tr>\n",
       "  </thead>\n",
       "  <tbody>\n",
       "    <tr>\n",
       "      <th>0</th>\n",
       "      <td>-1.096495</td>\n",
       "      <td>2.162018</td>\n",
       "      <td>-0.349322</td>\n",
       "      <td>-0.363180</td>\n",
       "    </tr>\n",
       "    <tr>\n",
       "      <th>1</th>\n",
       "      <td>-2.733170</td>\n",
       "      <td>0.048185</td>\n",
       "      <td>2.878308</td>\n",
       "      <td>-0.061932</td>\n",
       "    </tr>\n",
       "    <tr>\n",
       "      <th>2</th>\n",
       "      <td>3.113967</td>\n",
       "      <td>6.671185</td>\n",
       "      <td>-4.237225</td>\n",
       "      <td>4.098897</td>\n",
       "    </tr>\n",
       "    <tr>\n",
       "      <th>3</th>\n",
       "      <td>-4.991339</td>\n",
       "      <td>-2.320550</td>\n",
       "      <td>3.938989</td>\n",
       "      <td>-1.172916</td>\n",
       "    </tr>\n",
       "    <tr>\n",
       "      <th>4</th>\n",
       "      <td>0.226601</td>\n",
       "      <td>-0.994762</td>\n",
       "      <td>-4.641445</td>\n",
       "      <td>-3.334529</td>\n",
       "    </tr>\n",
       "    <tr>\n",
       "      <th>5</th>\n",
       "      <td>-0.881857</td>\n",
       "      <td>-4.529393</td>\n",
       "      <td>-2.726134</td>\n",
       "      <td>-0.817287</td>\n",
       "    </tr>\n",
       "    <tr>\n",
       "      <th>6</th>\n",
       "      <td>-2.005331</td>\n",
       "      <td>-1.826990</td>\n",
       "      <td>1.447330</td>\n",
       "      <td>1.214419</td>\n",
       "    </tr>\n",
       "    <tr>\n",
       "      <th>7</th>\n",
       "      <td>8.388138</td>\n",
       "      <td>-4.280455</td>\n",
       "      <td>4.697270</td>\n",
       "      <td>0.521457</td>\n",
       "    </tr>\n",
       "    <tr>\n",
       "      <th>8</th>\n",
       "      <td>-0.516193</td>\n",
       "      <td>3.849463</td>\n",
       "      <td>-0.355583</td>\n",
       "      <td>0.242383</td>\n",
       "    </tr>\n",
       "    <tr>\n",
       "      <th>9</th>\n",
       "      <td>0.495678</td>\n",
       "      <td>1.221299</td>\n",
       "      <td>-0.652190</td>\n",
       "      <td>-0.327313</td>\n",
       "    </tr>\n",
       "  </tbody>\n",
       "</table>\n",
       "</div>"
      ],
      "text/plain": [
       "          0         1         0         1\n",
       "0 -1.096495  2.162018 -0.349322 -0.363180\n",
       "1 -2.733170  0.048185  2.878308 -0.061932\n",
       "2  3.113967  6.671185 -4.237225  4.098897\n",
       "3 -4.991339 -2.320550  3.938989 -1.172916\n",
       "4  0.226601 -0.994762 -4.641445 -3.334529\n",
       "5 -0.881857 -4.529393 -2.726134 -0.817287\n",
       "6 -2.005331 -1.826990  1.447330  1.214419\n",
       "7  8.388138 -4.280455  4.697270  0.521457\n",
       "8 -0.516193  3.849463 -0.355583  0.242383\n",
       "9  0.495678  1.221299 -0.652190 -0.327313"
      ]
     },
     "execution_count": 78,
     "metadata": {},
     "output_type": "execute_result"
    }
   ],
   "source": [
    "survey_pca= pd.concat([X_pca_df, X_pca_df_2], axis= 1)\n",
    "survey_pca"
   ]
  },
  {
   "cell_type": "code",
   "execution_count": 79,
   "metadata": {},
   "outputs": [
    {
     "data": {
      "text/plain": [
       "0    11.900616\n",
       "1    11.404138\n",
       "0     9.556211\n",
       "1     3.201207\n",
       "dtype: float64"
      ]
     },
     "execution_count": 79,
     "metadata": {},
     "output_type": "execute_result"
    }
   ],
   "source": [
    "pd.np.var(survey_pca)"
   ]
  },
  {
   "cell_type": "code",
   "execution_count": 80,
   "metadata": {},
   "outputs": [],
   "source": [
    "scaler= StandardScaler()\n",
    "scaler.fit(survey_pca)\n",
    "X_scaled_pca= scaler.transform(survey_pca)\n",
    "pca_scaled_df= pd.DataFrame(survey_pca)\n",
    "pca_scaled_df.columns= ['The Beta',\n",
    "                         'The Alpha',\n",
    "                         'The CEO',\n",
    "                       'The Avoider']"
   ]
  },
  {
   "cell_type": "code",
   "execution_count": null,
   "metadata": {},
   "outputs": [],
   "source": []
  },
  {
   "cell_type": "code",
   "execution_count": 81,
   "metadata": {},
   "outputs": [
    {
     "data": {
      "image/png": "[encoded data removed]",
      "text/plain": [
       "<Figure size 864x864 with 1 Axes>"
      ]
     },
     "metadata": {
      "needs_background": "light"
     },
     "output_type": "display_data"
    }
   ],
   "source": [
    "# grouping data based on Ward distance\n",
    "standard_mergings_ward = linkage(y = pca_scaled_df,\n",
    "                                 method = 'ward')\n",
    "\n",
    "\n",
    "# setting plot size\n",
    "fig, ax = plt.subplots(figsize=(12, 12))\n",
    "\n",
    "# developing a dendrogram\n",
    "dendrogram(Z = standard_mergings_ward,\n",
    "           leaf_rotation = 90,\n",
    "           leaf_font_size = 6)\n",
    "\n",
    "\n",
    "# saving and displaying the plot\n",
    "#plt.savefig('standard_hierarchical_clust_ward.png')\n",
    "plt.show()"
   ]
  },
  {
   "cell_type": "code",
   "execution_count": 82,
   "metadata": {},
   "outputs": [
    {
     "name": "stdout",
     "output_type": "stream",
     "text": [
      "2    5\n",
      "0    4\n",
      "1    1\n",
      "Name: Cluster, dtype: int64\n"
     ]
    }
   ],
   "source": [
    "# INSTANTIATING a k-Means object with five clusters\n",
    "survey_k_pca = KMeans(n_clusters = 3,\n",
    "                        random_state = 802)\n",
    "\n",
    "\n",
    "# fitting the object to the data\n",
    "survey_k_pca.fit(pca_scaled_df)\n",
    "\n",
    "\n",
    "# converting the clusters to a DataFrame\n",
    "survey_kmeans_pca = pd.DataFrame({'Cluster': survey_k_pca.labels_})\n",
    "\n",
    "\n",
    "# checking the results\n",
    "print(survey_kmeans_pca.iloc[: , 0].value_counts())"
   ]
  },
  {
   "cell_type": "code",
   "execution_count": 83,
   "metadata": {},
   "outputs": [
    {
     "data": {
      "text/html": [
       "<div>\n",
       "<style scoped>\n",
       "    .dataframe tbody tr th:only-of-type {\n",
       "        vertical-align: middle;\n",
       "    }\n",
       "\n",
       "    .dataframe tbody tr th {\n",
       "        vertical-align: top;\n",
       "    }\n",
       "\n",
       "    .dataframe thead th {\n",
       "        text-align: right;\n",
       "    }\n",
       "</style>\n",
       "<table border=\"1\" class=\"dataframe\">\n",
       "  <thead>\n",
       "    <tr style=\"text-align: right;\">\n",
       "      <th></th>\n",
       "      <th>The Beta</th>\n",
       "      <th>The Alpha</th>\n",
       "      <th>The CEO</th>\n",
       "      <th>The Avoider</th>\n",
       "    </tr>\n",
       "  </thead>\n",
       "  <tbody>\n",
       "    <tr>\n",
       "      <th>0</th>\n",
       "      <td>-2.65</td>\n",
       "      <td>-2.16</td>\n",
       "      <td>1.38</td>\n",
       "      <td>-0.21</td>\n",
       "    </tr>\n",
       "    <tr>\n",
       "      <th>1</th>\n",
       "      <td>8.39</td>\n",
       "      <td>-4.28</td>\n",
       "      <td>4.70</td>\n",
       "      <td>0.52</td>\n",
       "    </tr>\n",
       "    <tr>\n",
       "      <th>2</th>\n",
       "      <td>0.44</td>\n",
       "      <td>2.58</td>\n",
       "      <td>-2.05</td>\n",
       "      <td>0.06</td>\n",
       "    </tr>\n",
       "  </tbody>\n",
       "</table>\n",
       "</div>"
      ],
      "text/plain": [
       "   The Beta  The Alpha  The CEO  The Avoider\n",
       "0     -2.65      -2.16     1.38        -0.21\n",
       "1      8.39      -4.28     4.70         0.52\n",
       "2      0.44       2.58    -2.05         0.06"
      ]
     },
     "execution_count": 83,
     "metadata": {},
     "output_type": "execute_result"
    }
   ],
   "source": [
    "# storing cluster centers\n",
    "centroids_pca = survey_k_pca.cluster_centers_\n",
    "\n",
    "\n",
    "# converting cluster centers into a DataFrame\n",
    "centroids_pca_df = pd.DataFrame(centroids_pca)\n",
    "\n",
    "\n",
    "# renaming principal components\n",
    "centroids_pca_df.columns = ['The Beta',\n",
    "                         'The Alpha',\n",
    "                         'The CEO',\n",
    "                       'The Avoider']\n",
    "\n",
    "# checking results (clusters = rows, pc = columns)\n",
    "centroids_pca_df.round(2)"
   ]
  },
  {
   "cell_type": "code",
   "execution_count": 108,
   "metadata": {},
   "outputs": [
    {
     "name": "stdout",
     "output_type": "stream",
     "text": [
      "                            Program  Current Laptop Purchase Behavior  Age  Cluster  The Beta  The Alpha   The CEO  The Avoider\n",
      "0     DD (MIB & Business Analytics)         Macbook           Macbook   25        2 -1.096495   2.162018 -0.349322    -0.363180\n",
      "1       One year Business Analytics  Windows laptop    Windows laptop   27        0 -2.733170   0.048185  2.878308    -0.061932\n",
      "2       One year Business Analytics  Windows laptop    Windows laptop   25        2  3.113967   6.671185 -4.237225     4.098897\n",
      "3       One year Business Analytics  Windows laptop    Windows laptop   26        0 -4.991339  -2.320550  3.938989    -1.172916\n",
      "4  DD (MBA & Disruptive innovation)         Macbook    Windows laptop   27        2  0.226601  -0.994762 -4.641445    -3.334529\n"
     ]
    }
   ],
   "source": [
    "# concatinating cluster memberships with principal components\n",
    "clst_pca_df = pd.concat([survey_kmeans_pca,\n",
    "                          survey_pca],\n",
    "                          axis = 1)\n",
    "\n",
    "\n",
    "# checking results\n",
    "clst_pca_df\n",
    "\n",
    "\n",
    "# concatenating demographic information with pca-clusters\n",
    "final_pca_clust_df = pd.concat([data_big5.loc[ : , ['What program are you in?', 'What laptop do you currently have?', \n",
    "                                                    'What laptop would you buy in next assuming if all laptops cost the same?',\n",
    "                                                   'What is your age?']],\n",
    "                                  clst_pca_df],\n",
    "                                  axis = 1)\n",
    "\n",
    "\n",
    "# renaming columns\n",
    "final_pca_clust_df.columns = ['Program',\n",
    "                              'Current Laptop',\n",
    "                              'Purchase Behavior',\n",
    "                              'Age',\n",
    "                              'Cluster',\n",
    "                              'The Beta',\n",
    "                              'The Alpha',\n",
    "                              'The CEO',\n",
    "                             'The Avoider']\n",
    "\n",
    "\n",
    "# checking the results\n",
    "print(final_pca_clust_df.head(n = 5))\n",
    "\n"
   ]
  },
  {
   "cell_type": "code",
   "execution_count": null,
   "metadata": {},
   "outputs": [],
   "source": []
  },
  {
   "cell_type": "code",
   "execution_count": null,
   "metadata": {},
   "outputs": [],
   "source": []
  },
  {
   "cell_type": "code",
   "execution_count": null,
   "metadata": {},
   "outputs": [],
   "source": []
  },
  {
   "cell_type": "code",
   "execution_count": null,
   "metadata": {},
   "outputs": [],
   "source": []
  },
  {
   "cell_type": "code",
   "execution_count": 85,
   "metadata": {},
   "outputs": [],
   "source": [
    "cluster_names = {0 : 'Cluster 1',\n",
    "                 1 : 'Cluster 2',\n",
    "                 2 : 'Cluster 3'}\n",
    "\n",
    "\n",
    "final_pca_clust_df['Cluster'].replace(cluster_names, inplace = True)"
   ]
  },
  {
   "cell_type": "code",
   "execution_count": 87,
   "metadata": {},
   "outputs": [
    {
     "data": {
      "image/png": "[encoded data removed]",
      "text/plain": [
       "<Figure size 864x576 with 1 Axes>"
      ]
     },
     "metadata": {
      "needs_background": "light"
     },
     "output_type": "display_data"
    }
   ],
   "source": [
    "# Alphas\n",
    "fig, ax = plt.subplots(figsize = (12, 8))\n",
    "sns.boxplot(x = 'Program',\n",
    "            y = 'The Alpha',\n",
    "            hue = 'Cluster',\n",
    "            data = final_pca_clust_df)\n",
    "\n",
    "plt.ylim(-10, 19)\n",
    "plt.tight_layout()\n",
    "plt.show()"
   ]
  },
  {
   "cell_type": "code",
   "execution_count": 88,
   "metadata": {},
   "outputs": [
    {
     "data": {
      "image/png": "[encoded data removed]",
      "text/plain": [
       "<Figure size 864x576 with 1 Axes>"
      ]
     },
     "metadata": {
      "needs_background": "light"
     },
     "output_type": "display_data"
    }
   ],
   "source": [
    "# Purchasing Behavior\n",
    "fig, ax = plt.subplots(figsize = (12, 8))\n",
    "sns.boxplot(x = 'Purchase Behavior',\n",
    "            y = 'The Alpha',\n",
    "            hue = 'Cluster',\n",
    "            data = final_pca_clust_df)\n",
    "\n",
    "plt.ylim(-10, 19)\n",
    "plt.tight_layout()\n",
    "plt.show()"
   ]
  },
  {
   "cell_type": "code",
   "execution_count": 104,
   "metadata": {},
   "outputs": [
    {
     "data": {
      "image/png": "[encoded data removed]",
      "text/plain": [
       "<Figure size 864x576 with 1 Axes>"
      ]
     },
     "metadata": {
      "needs_background": "light"
     },
     "output_type": "display_data"
    }
   ],
   "source": [
    "# Purchasing Behavior\n",
    "fig, ax = plt.subplots(figsize = (12, 8))\n",
    "sns.boxplot(x = 'Purchase Behavior',\n",
    "            y = 'Age',\n",
    "            hue = 'Cluster',\n",
    "            data = final_pca_clust_df)\n",
    "\n",
    "plt.ylim(-10, 19)\n",
    "plt.tight_layout()\n",
    "plt.show()"
   ]
  },
  {
   "cell_type": "code",
   "execution_count": null,
   "metadata": {},
   "outputs": [],
   "source": []
  },
  {
   "cell_type": "code",
   "execution_count": 91,
   "metadata": {},
   "outputs": [
    {
     "data": {
      "image/png": "[encoded data removed]",
      "text/plain": [
       "<Figure size 864x576 with 1 Axes>"
      ]
     },
     "metadata": {
      "needs_background": "light"
     },
     "output_type": "display_data"
    }
   ],
   "source": [
    "# Purchasing Behavior\n",
    "fig, ax = plt.subplots(figsize = (12, 8))\n",
    "sns.boxplot(x = 'Purchase Behavior',\n",
    "            y = 'The CEO',\n",
    "            hue = 'Cluster',\n",
    "            data = final_pca_clust_df)\n",
    "\n",
    "plt.ylim(-10, 19)\n",
    "plt.tight_layout()\n",
    "plt.show()"
   ]
  },
  {
   "cell_type": "code",
   "execution_count": 103,
   "metadata": {},
   "outputs": [
    {
     "data": {
      "image/png": "[encoded data removed]",
      "text/plain": [
       "<Figure size 432x288 with 1 Axes>"
      ]
     },
     "metadata": {
      "needs_background": "light"
     },
     "output_type": "display_data"
    }
   ],
   "source": [
    "ax = sns.violinplot(x=\"Purchase Behavior\", y=\"The Alpha\", data=final_pca_clust_df)"
   ]
  },
  {
   "cell_type": "code",
   "execution_count": 98,
   "metadata": {},
   "outputs": [
    {
     "data": {
      "image/png": "[encoded data removed]",
      "text/plain": [
       "<Figure size 432x288 with 1 Axes>"
      ]
     },
     "metadata": {
      "needs_background": "light"
     },
     "output_type": "display_data"
    }
   ],
   "source": [
    "ax = sns.scatterplot(x=\"Purchase Behavior\", y=\"Program\", hue= \"Cluster\", data=final_pca_clust_df)"
   ]
  },
  {
   "cell_type": "code",
   "execution_count": null,
   "metadata": {},
   "outputs": [],
   "source": []
  },
  {
   "cell_type": "code",
   "execution_count": null,
   "metadata": {},
   "outputs": [],
   "source": []
  },
  {
   "cell_type": "code",
   "execution_count": null,
   "metadata": {},
   "outputs": [],
   "source": []
  },
  {
   "cell_type": "code",
   "execution_count": null,
   "metadata": {},
   "outputs": [],
   "source": []
  }
 ],
 "metadata": {
  "kernelspec": {
   "display_name": "Python 3",
   "language": "python",
   "name": "python3"
  },
  "language_info": {
   "codemirror_mode": {
    "name": "ipython",
    "version": 3
   },
   "file_extension": ".py",
   "mimetype": "text/x-python",
   "name": "python",
   "nbconvert_exporter": "python",
   "pygments_lexer": "ipython3",
   "version": "3.7.6"
  },
  "toc": {
   "base_numbering": 1,
   "nav_menu": {},
   "number_sections": true,
   "sideBar": true,
   "skip_h1_title": false,
   "title_cell": "Table of Contents",
   "title_sidebar": "Contents",
   "toc_cell": false,
   "toc_position": {},
   "toc_section_display": true,
   "toc_window_display": false
  },
  "varInspector": {
   "cols": {
    "lenName": 16,
    "lenType": 16,
    "lenVar": 40
   },
   "kernels_config": {
    "python": {
     "delete_cmd_postfix": "",
     "delete_cmd_prefix": "del ",
     "library": "var_list.py",
     "varRefreshCmd": "print(var_dic_list())"
    },
    "r": {
     "delete_cmd_postfix": ") ",
     "delete_cmd_prefix": "rm(",
     "library": "var_list.r",
     "varRefreshCmd": "cat(var_dic_list()) "
    }
   },
   "types_to_exclude": [
    "module",
    "function",
    "builtin_function_or_method",
    "instance",
    "_Feature"
   ],
   "window_display": false
  }
 },
 "nbformat": 4,
 "nbformat_minor": 2
}
